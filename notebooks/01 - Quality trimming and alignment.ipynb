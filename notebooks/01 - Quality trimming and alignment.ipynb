{
 "cells": [
  {
   "cell_type": "markdown",
   "metadata": {},
   "source": [
    "## Change `NUMPROC` variable to the actual number of cores"
   ]
  },
  {
   "cell_type": "code",
   "execution_count": 1,
   "metadata": {},
   "outputs": [
    {
     "name": "stdout",
     "output_type": "stream",
     "text": []
    }
   ],
   "source": [
    "NUMPROC=30"
   ]
  },
  {
   "cell_type": "markdown",
   "metadata": {},
   "source": [
    "## Set up location of data and reference files"
   ]
  },
  {
   "cell_type": "code",
   "execution_count": 17,
   "metadata": {},
   "outputs": [
    {
     "name": "stdout",
     "output_type": "stream",
     "text": []
    }
   ],
   "source": [
    "base_dir=\"../data\"\n",
    "result_dir=\"../results\"\n",
    "index=\"../ref/lncRNA_locus\""
   ]
  },
  {
   "cell_type": "markdown",
   "metadata": {},
   "source": [
    "## Perform quality trimming\n",
    "\n",
    "* discard reads where average quality in 4 nt window falls below 20\n",
    "* clip Illumina adapters\n",
    "* keep only reads longer than 36 nt\n",
    "\n",
    "Files `R1_pe.fastq.gz` and `R2_pe.fastq.gz` contain surviving paired end reads.\n",
    "Files `R1_se.fastq.gz` and `R2_se.fastq.gz` containg reads where only one mate survived."
   ]
  },
  {
   "cell_type": "code",
   "execution_count": 4,
   "metadata": {
    "scrolled": false
   },
   "outputs": [
    {
     "name": "stdout",
     "output_type": "stream",
     "text": [
      "Running Trimmomatic for yoon01\n",
      "TrimmomaticPE: Started with arguments:\n",
      " -threads 30 ../data/yoon01/R1.fastq.gz ../data/yoon01/R2.fastq.gz ../data/yoon01/trim/R1_pe.fastq.gz ../data/yoon01/trim/R1_se.fastq.gz ../data/yoon01/trim/R2_pe.fastq.gz ../data/yoon01/trim/R2_se.fastq.gz ILLUMINACLIP:../ref/illuminaClipping.fa:2:30:10 SLIDINGWINDOW:4:20 MINLEN:36\n",
      "Using PrefixPair: 'GATCGGAAGAGCGGTTCAGCAGGAATGCCGAG' and 'ACACTCTTTCCCTACACGACGCTCTTCCGATCT'\n",
      "ILLUMINACLIP: Using 1 prefix pairs, 0 forward/reverse sequences, 0 forward only sequences, 0 reverse only sequences\n",
      "Quality encoding detected as phred33\n",
      "Input Read Pairs: 35729030 Both Surviving: 30534716 (85.46%) Forward Only Surviving: 2021392 (5.66%) Reverse Only Surviving: 527614 (1.48%) Dropped: 2645308 (7.40%)\n",
      "TrimmomaticPE: Completed successfully\n",
      "Running Trimmomatic for yoon02\n",
      "TrimmomaticPE: Started with arguments:\n",
      " -threads 30 ../data/yoon02/R1.fastq.gz ../data/yoon02/R2.fastq.gz ../data/yoon02/trim/R1_pe.fastq.gz ../data/yoon02/trim/R1_se.fastq.gz ../data/yoon02/trim/R2_pe.fastq.gz ../data/yoon02/trim/R2_se.fastq.gz ILLUMINACLIP:../ref/illuminaClipping.fa:2:30:10 SLIDINGWINDOW:4:20 MINLEN:36\n",
      "Using PrefixPair: 'GATCGGAAGAGCGGTTCAGCAGGAATGCCGAG' and 'ACACTCTTTCCCTACACGACGCTCTTCCGATCT'\n",
      "ILLUMINACLIP: Using 1 prefix pairs, 0 forward/reverse sequences, 0 forward only sequences, 0 reverse only sequences\n",
      "Quality encoding detected as phred33\n",
      "Input Read Pairs: 35547861 Both Surviving: 30399378 (85.52%) Forward Only Surviving: 1880413 (5.29%) Reverse Only Surviving: 522957 (1.47%) Dropped: 2745113 (7.72%)\n",
      "TrimmomaticPE: Completed successfully\n",
      "Running Trimmomatic for yoon03\n",
      "TrimmomaticPE: Started with arguments:\n",
      " -threads 30 ../data/yoon03/R1.fastq.gz ../data/yoon03/R2.fastq.gz ../data/yoon03/trim/R1_pe.fastq.gz ../data/yoon03/trim/R1_se.fastq.gz ../data/yoon03/trim/R2_pe.fastq.gz ../data/yoon03/trim/R2_se.fastq.gz ILLUMINACLIP:../ref/illuminaClipping.fa:2:30:10 SLIDINGWINDOW:4:20 MINLEN:36\n",
      "Using PrefixPair: 'GATCGGAAGAGCGGTTCAGCAGGAATGCCGAG' and 'ACACTCTTTCCCTACACGACGCTCTTCCGATCT'\n",
      "ILLUMINACLIP: Using 1 prefix pairs, 0 forward/reverse sequences, 0 forward only sequences, 0 reverse only sequences\n",
      "Quality encoding detected as phred33\n",
      "Input Read Pairs: 40009664 Both Surviving: 34223026 (85.54%) Forward Only Surviving: 2190820 (5.48%) Reverse Only Surviving: 596046 (1.49%) Dropped: 2999772 (7.50%)\n",
      "TrimmomaticPE: Completed successfully\n",
      "DONE.\n"
     ]
    }
   ],
   "source": [
    "for sample in $(ls $base_dir)\n",
    "do\n",
    "    echo \"Running Trimmomatic for $sample\"\n",
    "    dst=\"$base_dir/$sample/trim\"\n",
    "    if [ ! -d $dst ];\n",
    "    then\n",
    "        mkdir -p $dst\n",
    "    fi\n",
    "    TrimmomaticPE -threads $NUMPROC \\\n",
    "        $base_dir/$sample/R1.fastq.gz \\\n",
    "        $base_dir/$sample/R2.fastq.gz \\\n",
    "        $dst/R1_pe.fastq.gz $dst/R1_se.fastq.gz \\\n",
    "        $dst/R2_pe.fastq.gz $dst/R2_se.fastq.gz \\\n",
    "        ILLUMINACLIP:../ref/illuminaClipping.fa:2:30:10 \\\n",
    "        SLIDINGWINDOW:4:20 MINLEN:36\n",
    "done\n",
    "\n",
    "echo \"DONE.\""
   ]
  },
  {
   "cell_type": "code",
   "execution_count": 16,
   "metadata": {},
   "outputs": [
    {
     "name": "stdout",
     "output_type": "stream",
     "text": [
      "total 1.3G\n",
      "drwxrwsr-x 2 ilya lab 4.0K Feb  2 16:51 \u001b[0m\u001b[01;34m.\u001b[0m\n",
      "drwxrwsr-x 3 ilya lab 4.0K Feb  2 15:56 \u001b[01;34m..\u001b[0m\n",
      "-rw-rw-r-- 1 ilya lab 582M Feb  2 16:18 \u001b[01;31mR1_pe.fastq.gz\u001b[0m\n",
      "-rw-rw-r-- 1 ilya lab  53M Feb  2 16:18 \u001b[01;31mR1_se.fastq.gz\u001b[0m\n",
      "-rw-rw-r-- 1 ilya lab 590M Feb  2 16:18 \u001b[01;31mR2_pe.fastq.gz\u001b[0m\n",
      "-rw-rw-r-- 1 ilya lab  16M Feb  2 16:18 \u001b[01;31mR2_se.fastq.gz\u001b[0m\n"
     ]
    }
   ],
   "source": [
    "ls -lah ../data/yoon01/trim"
   ]
  },
  {
   "cell_type": "markdown",
   "metadata": {},
   "source": [
    "## Align surviving paired end reads to the locus reference"
   ]
  },
  {
   "cell_type": "code",
   "execution_count": 8,
   "metadata": {},
   "outputs": [
    {
     "name": "stdout",
     "output_type": "stream",
     "text": [
      "[1] 32590\n",
      "[2] 32591\n",
      "30534716 reads; of these:\n",
      "  30534716 (100.00%) were paired; of these:\n",
      "    6305496 (20.65%) aligned concordantly 0 times\n",
      "    22929448 (75.09%) aligned concordantly exactly 1 time\n",
      "    1299772 (4.26%) aligned concordantly >1 times\n",
      "    ----\n",
      "    6305496 pairs aligned concordantly 0 times; of these:\n",
      "      179963 (2.85%) aligned discordantly 1 time\n",
      "    ----\n",
      "    6125533 pairs aligned 0 times concordantly or discordantly; of these:\n",
      "      12251066 mates make up the pairs; of these:\n",
      "        7385867 (60.29%) aligned 0 times\n",
      "        4535375 (37.02%) aligned exactly 1 time\n",
      "        329824 (2.69%) aligned >1 times\n",
      "87.91% overall alignment rate\n",
      "[1]-  Done                    zcat \"$sample_dir/trim/R1_pe.fastq.gz\" > $read1\n",
      "[2]+  Done                    zcat \"$sample_dir/trim/R2_pe.fastq.gz\" > $read2\n",
      "[1] 18985\n",
      "[2] 18986\n",
      "30399378 reads; of these:\n",
      "  30399378 (100.00%) were paired; of these:\n",
      "    6164906 (20.28%) aligned concordantly 0 times\n",
      "    22900888 (75.33%) aligned concordantly exactly 1 time\n",
      "    1333584 (4.39%) aligned concordantly >1 times\n",
      "    ----\n",
      "    6164906 pairs aligned concordantly 0 times; of these:\n",
      "      165738 (2.69%) aligned discordantly 1 time\n",
      "    ----\n",
      "    5999168 pairs aligned 0 times concordantly or discordantly; of these:\n",
      "      11998336 mates make up the pairs; of these:\n",
      "        7329844 (61.09%) aligned 0 times\n",
      "        4354898 (36.30%) aligned exactly 1 time\n",
      "        313594 (2.61%) aligned >1 times\n",
      "87.94% overall alignment rate\n",
      "[1]-  Done                    zcat \"$sample_dir/trim/R1_pe.fastq.gz\" > $read1\n",
      "[2]+  Done                    zcat \"$sample_dir/trim/R2_pe.fastq.gz\" > $read2\n",
      "[1] 5496\n",
      "[2] 5497\n",
      "34223026 reads; of these:\n",
      "  34223026 (100.00%) were paired; of these:\n",
      "    7004286 (20.47%) aligned concordantly 0 times\n",
      "    25738277 (75.21%) aligned concordantly exactly 1 time\n",
      "    1480463 (4.33%) aligned concordantly >1 times\n",
      "    ----\n",
      "    7004286 pairs aligned concordantly 0 times; of these:\n",
      "      195174 (2.79%) aligned discordantly 1 time\n",
      "    ----\n",
      "    6809112 pairs aligned 0 times concordantly or discordantly; of these:\n",
      "      13618224 mates make up the pairs; of these:\n",
      "        8257623 (60.64%) aligned 0 times\n",
      "        4998535 (36.70%) aligned exactly 1 time\n",
      "        362066 (2.66%) aligned >1 times\n",
      "87.94% overall alignment rate\n",
      "[1]-  Done                    zcat \"$sample_dir/trim/R1_pe.fastq.gz\" > $read1\n",
      "[2]+  Done                    zcat \"$sample_dir/trim/R2_pe.fastq.gz\" > $read2\n"
     ]
    }
   ],
   "source": [
    "for sample in $(ls $base_dir)\n",
    "do\n",
    "    sample_dir=\"$base_dir/$sample\"\n",
    "    res_dir=\"../results/$sample\"\n",
    "    read1=\"$sample_dir/trim/read1.fifo\"\n",
    "    read2=\"$sample_dir/trim/read2.fifo\"\n",
    "    mkfifo $read1\n",
    "    mkfifo $read2\n",
    "    if [ ! -d $res_dir ];\n",
    "    then\n",
    "        mkdir -p $res_dir\n",
    "    fi\n",
    "    zcat \"$sample_dir/trim/R1_pe.fastq.gz\" > $read1 &\n",
    "    zcat \"$sample_dir/trim/R2_pe.fastq.gz\" > $read2 &\n",
    "\n",
    "    bowtie2 -p $NUMPROC --very-sensitive -x $index \\\n",
    "        -1 $read1 -2 $read2 \\\n",
    "        | samtools view -bhS - > \"$res_dir/lncRNA_locus.bam\"\n",
    "    rm $sample_dir/trim/*.fifo\n",
    "done    \n"
   ]
  },
  {
   "cell_type": "markdown",
   "metadata": {},
   "source": [
    "## Sort, index, and strand-split `.bam` files for downstream processing"
   ]
  },
  {
   "cell_type": "code",
   "execution_count": 9,
   "metadata": {},
   "outputs": [
    {
     "name": "stdout",
     "output_type": "stream",
     "text": []
    }
   ],
   "source": [
    "# This function takes a sorted and indexed .bam file\n",
    "# and splits it into two files corresponding to the\n",
    "# alignments to + and - strand\n",
    "\n",
    "# Example:\n",
    "#\n",
    "# splitstrands 201 ../../results \"\"\n",
    "\n",
    "splitstrands() {\n",
    "    sample=${1-\"sample\"}\n",
    "    base_dir=${2-\"../results\"}\n",
    "    prefix=${3-\"transcripts\"}\n",
    "    \n",
    "    result_dir=\"${base_dir}/${sample}\"\n",
    "    echo \"Processing $sample... forward strand\"\n",
    "    # Forward strand.\n",
    "    #\n",
    "    # 1. alignments of the second in pair if they map to the forward strand\n",
    "    # 2. alignments of the first in pair if they map to the reverse  strand\n",
    "    #\n",
    "\n",
    "    samtools view -b -f 128 -F 16 -@ $NUMPROC \\\n",
    "        \"${result_dir}/${prefix}.sorted.bam\" \\\n",
    "        > \"${result_dir}/${prefix}.sorted.fwd1.bam\"\n",
    "    samtools view -b -f 80 -@ $NUMPROC \\\n",
    "        \"${result_dir}/${prefix}.sorted.bam\" \\\n",
    "        > \"${result_dir}/${prefix}.sorted.fwd2.bam\"\n",
    "        \n",
    "    samtools index -@ $NUMPROC \"$result_dir/${prefix}.sorted.fwd1.bam\"\n",
    "    samtools index -@ $NUMPROC \"$result_dir/${prefix}.sorted.fwd2.bam\"\n",
    "    \n",
    "    samtools merge -@ $NUMPROC -f \"$result_dir/${prefix}.sorted.fwd.bam\" \\\n",
    "        \"$result_dir/${prefix}.sorted.fwd1.bam\" \\\n",
    "        \"$result_dir/${prefix}.sorted.fwd2.bam\"\n",
    "    samtools index -@ $NUMPROC \"$result_dir/${prefix}.sorted.fwd.bam\"\n",
    "    rm $result_dir/${prefix}.sorted.fwd{1,2}.bam\n",
    "    rm $result_dir/${prefix}.sorted.fwd{1,2}.bam.bai\n",
    "    \n",
    "    # Reverse strand\n",
    "    #\n",
    "    # 1. alignments of the second in pair if they map to the reverse strand\n",
    "    # 2. alignments of the first in pair if they map to the forward strand\n",
    "    #\n",
    "    echo \"Processing $sample... reverse strand\"\n",
    "    samtools view -b -f 144 -@ $NUMPROC \\\n",
    "        \"${result_dir}/${prefix}.sorted.bam\" \\\n",
    "        > \"${result_dir}/${prefix}.sorted.rev1.bam\"\n",
    "    samtools view -b -f 64 -F16 -@ $NUMPROC \\\n",
    "        \"${result_dir}/${prefix}.sorted.bam\" \\\n",
    "        > \"${result_dir}/${prefix}.sorted.rev2.bam\"\n",
    "        \n",
    "    samtools index -@ $NUMPROC \"$result_dir/${prefix}.sorted.rev1.bam\"\n",
    "    samtools index -@ $NUMPROC \"$result_dir/${prefix}.sorted.rev2.bam\"\n",
    "    \n",
    "    samtools merge -@ $NUMPROC -f \"$result_dir/${prefix}.sorted.rev.bam\" \\\n",
    "        \"$result_dir/${prefix}.sorted.rev1.bam\" \\\n",
    "        \"$result_dir/${prefix}.sorted.rev2.bam\"\n",
    "    samtools index -@ $NUMPROC \"$result_dir/${prefix}.sorted.rev.bam\"\n",
    "    rm $result_dir/${prefix}.sorted.rev{1,2}.bam\n",
    "    rm $result_dir/${prefix}.sorted.rev{1,2}.bam.bai\n",
    "\n",
    "}"
   ]
  },
  {
   "cell_type": "code",
   "execution_count": 12,
   "metadata": {},
   "outputs": [
    {
     "name": "stdout",
     "output_type": "stream",
     "text": [
      "[1] 6643\n",
      "Processing yoon01... forward strand\n",
      "Processing yoon01... reverse strand\n",
      "[1]+  Done                    splitstrands $sample \"../results\" \"lncRNA_locus\"\n",
      "[1] 13053\n",
      "Processing yoon02... forward strand\n",
      "Processing yoon02... reverse strand\n",
      "[1]+  Done                    splitstrands $sample \"../results\" \"lncRNA_locus\"\n",
      "[1] 20694\n"
     ]
    },
    {
     "ename": "",
     "evalue": "1",
     "output_type": "error",
     "traceback": []
    }
   ],
   "source": [
    "for sample in $(ls $result_dir)\n",
    "do\n",
    "    sample_dir=\"$result_dir/$sample\"\n",
    "    samtools sort -@ $NUMPROC \\\n",
    "        \"$sample_dir/lncRNA_locus.bam\" \\\n",
    "        -o \"$sample_dir/lncRNA_locus.sorted.bam\"\n",
    "    samtools index -@ $NUMPROC \"$sample_dir/lncRNA_locus.sorted.bam\"\n",
    "    splitstrands $sample \"../results\" \"lncRNA_locus\"&\n",
    "done"
   ]
  },
  {
   "cell_type": "code",
   "execution_count": 15,
   "metadata": {},
   "outputs": [
    {
     "name": "stdout",
     "output_type": "stream",
     "text": [
      "total 5.9G\n",
      "drwxrwsr-x 2 ilya lab 4.0K Feb  2 17:46 \u001b[0m\u001b[01;34m.\u001b[0m\n",
      "drwxrwsr-x 5 ilya lab 4.0K Feb  2 17:24 \u001b[01;34m..\u001b[0m\n",
      "-rw-rw-r-- 1 ilya lab 2.5G Feb  2 17:22 lncRNA_locus.bam\n",
      "-rw-rw-r-- 1 ilya lab 1.8G Feb  2 17:42 lncRNA_locus.sorted.bam\n",
      "-rw-rw-r-- 1 ilya lab   96 Feb  2 17:43 lncRNA_locus.sorted.bam.bai\n",
      "-rw-rw-r-- 1 ilya lab 880M Feb  2 17:44 lncRNA_locus.sorted.fwd.bam\n",
      "-rw-rw-r-- 1 ilya lab   96 Feb  2 17:44 lncRNA_locus.sorted.fwd.bam.bai\n",
      "-rw-rw-r-- 1 ilya lab 879M Feb  2 17:46 lncRNA_locus.sorted.rev.bam\n",
      "-rw-rw-r-- 1 ilya lab   96 Feb  2 17:46 lncRNA_locus.sorted.rev.bam.bai\n",
      "[1]+  Done                    splitstrands $sample \"../results\" \"lncRNA_locus\"\n"
     ]
    }
   ],
   "source": [
    "ls -lah ../results/yoon03"
   ]
  },
  {
   "cell_type": "markdown",
   "metadata": {},
   "source": [
    "## Prepare locus coverage files"
   ]
  },
  {
   "cell_type": "code",
   "execution_count": 18,
   "metadata": {},
   "outputs": [
    {
     "name": "stdout",
     "output_type": "stream",
     "text": []
    }
   ],
   "source": [
    "for sample in $(ls $result_dir)\n",
    "do\n",
    "    output_dir=\"$result_dir/$sample\"\n",
    "    \n",
    "    (bedtools genomecov -ibam ${output_dir}/lncRNA_locus.sorted.fwd.bam \\\n",
    "        -d -pc | gzip -9 > ${output_dir}/lncRNA_locus.fwd.cov.gz &)\n",
    "    (bedtools genomecov -ibam ${output_dir}/lncRNA_locus.sorted.rev.bam \\\n",
    "        -d -pc | gzip -9 > ${output_dir}/lncRNA_locus.rev.cov.gz &)\n",
    "    (bedtools genomecov -ibam ${output_dir}/lncRNA_locus.sorted.bam \\\n",
    "        -d -pc | gzip -9 > ${output_dir}/lncRNA_locus.cov.gz &)\n",
    "done"
   ]
  },
  {
   "cell_type": "code",
   "execution_count": null,
   "metadata": {},
   "outputs": [],
   "source": []
  }
 ],
 "metadata": {
  "kernelspec": {
   "display_name": "Bash",
   "language": "bash",
   "name": "bash"
  },
  "language_info": {
   "codemirror_mode": "shell",
   "file_extension": ".sh",
   "mimetype": "text/x-sh",
   "name": "bash"
  }
 },
 "nbformat": 4,
 "nbformat_minor": 2
}
